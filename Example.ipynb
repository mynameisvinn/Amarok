{
 "cells": [
  {
   "cell_type": "code",
   "execution_count": 1,
   "metadata": {},
   "outputs": [],
   "source": [
    "from Amarok import Amarok"
   ]
  },
  {
   "cell_type": "code",
   "execution_count": 4,
   "metadata": {},
   "outputs": [],
   "source": [
    "# generate list of transactions\n",
    "queries = [['eggs'], \n",
    "           [\"eggs\", \"cereal\"], \n",
    "           [\"cereal\"], \n",
    "           [\"bacon\", \"toast\"], \n",
    "           [\"eggs\", \"bacon\"], \n",
    "           [\"bacon\"], \n",
    "           [\"eggs\", \"cereal\"]\n",
    "          ]"
   ]
  },
  {
   "cell_type": "code",
   "execution_count": 5,
   "metadata": {},
   "outputs": [],
   "source": [
    "A = Amarok()\n",
    "A.fit(queries)"
   ]
  },
  {
   "cell_type": "code",
   "execution_count": 7,
   "metadata": {},
   "outputs": [
    {
     "name": "stdout",
     "output_type": "stream",
     "text": [
      "bacon 0.5833333333333334\n",
      "cereal 1.1666666666666667\n"
     ]
    }
   ],
   "source": [
    "# when people search for eggs, what are they more likely to search for?\n",
    "A.predict(\"eggs\")"
   ]
  },
  {
   "cell_type": "code",
   "execution_count": null,
   "metadata": {
    "collapsed": true
   },
   "outputs": [],
   "source": []
  }
 ],
 "metadata": {
  "kernelspec": {
   "display_name": "Python 3",
   "language": "python",
   "name": "python3"
  },
  "language_info": {
   "codemirror_mode": {
    "name": "ipython",
    "version": 3
   },
   "file_extension": ".py",
   "mimetype": "text/x-python",
   "name": "python",
   "nbconvert_exporter": "python",
   "pygments_lexer": "ipython3",
   "version": "3.6.5"
  }
 },
 "nbformat": 4,
 "nbformat_minor": 2
}
